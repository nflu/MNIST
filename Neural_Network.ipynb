{
 "cells": [
  {
   "cell_type": "code",
   "execution_count": 18,
   "metadata": {},
   "outputs": [],
   "source": [
    "import matplotlib.pyplot as plt\n",
    "import _pickle as cPickle\n",
    "import pickle\n",
    "import gzip \n",
    "import numpy as np\n",
    "import sys\n",
    "import time\n",
    "from scipy.special import expit\n",
    "\n",
    "\n",
    "# Load the dataset\n",
    "f = gzip.open('mnist.pkl.gz', 'rb')\n",
    "train_set, valid_set, test_set = cPickle.load(f,encoding='latin1')\n",
    "f.close()"
   ]
  },
  {
   "cell_type": "code",
   "execution_count": 21,
   "metadata": {},
   "outputs": [],
   "source": [
    "#these are just various mathematical tools needed for the NN\n",
    "\n",
    "def identity(x):\n",
    "    return x\n",
    "\n",
    "def identityPrime(x):\n",
    "    return np.ones(len(x))\n",
    "\n",
    "def sigmoidPrime(x):\n",
    "    return expit(x)*(1-expit(x)) #use expit to prevent overflow with large values\n",
    "\n",
    "def sigmoid(x):\n",
    "    return expit(x) #admittedly this is a little unnecessary but I think it makes sense to have \n",
    "    #sigmoid and sigmoidPrime instead of expit and sigmoidPrime\n",
    "\n",
    "def relu(x):\n",
    "    if x<0:\n",
    "        return 0\n",
    "    else:\n",
    "        return x\n",
    "\n",
    "def reluPrime(x):\n",
    "    z = np.zeros(len(x))\n",
    "    for i in range(len(x)):\n",
    "        if x[i]>0:\n",
    "            z[i] = 1\n",
    "    return z\n",
    "\n",
    "def elementWise(f, x):\n",
    "    for i in range(len(x)):\n",
    "        x[i] = f(x[i])\n",
    "    return x    \n",
    "\n",
    "def softMax(x):\n",
    "    z = np.exp(x)\n",
    "    return z/sum(z)\n",
    "\n",
    "def softMaxPrime(x):\n",
    "    z = np.exp(x)\n",
    "    c = sum(z)\n",
    "    for i in range(len(z)):\n",
    "        z[i] = (c-z[i])*z[i]/(c*c)\n",
    "    return z\n",
    "\n",
    "def logLoss(x, target):\n",
    "    loss = 0\n",
    "    for i in range(len(x)):\n",
    "        loss += target[i]*np.log(x[i])+(1-target[i])*np.log(1-x[i])\n",
    "    return (-1.0/len(x))*loss\n",
    "    \n",
    "def logLossPrime(x, target):\n",
    "    grad = np.zeros(len(x))\n",
    "    for i in range(len(x)):\n",
    "        grad[i]=(-1.0/len(x))*(target[i]/x[i]-(1-target[i])/(1-x[i]))\n",
    "    return grad\n",
    "\n",
    "def MSE(x, target):\n",
    "    a = x-target\n",
    "    return np.dot(a,a)\n",
    "\n",
    "def MSEPrime(x, target):\n",
    "    return 2*(x-target)\n",
    "\n",
    "def crossEntropy(output, target):\n",
    "    cost = 0\n",
    "    for i in range(len(target)):\n",
    "        cost -= target[i]*np.log(output[i])\n",
    "    return cost\n",
    "\n",
    "def crossEntropyPrime(output, target):\n",
    "    return -target/output\n",
    "\n",
    "def softMaxCross(x, target):\n",
    "    return crossEntropy(softMax(x), target)\n",
    "\n",
    "def softMaxCrossPrime(x, target):\n",
    "    return softMax(x)-target\n",
    "\n",
    "def trainingGraph(trainingData):\n",
    "    costs = trainingData[0]\n",
    "    accuracies = np.array(trainingData[1])\n",
    "    plt.plot(costs, 'ro')\n",
    "    plt.ylabel(\"total cost\")\n",
    "    plt.xlabel(\"iteration\")\n",
    "    plt.show()\n",
    "    plt.plot(100.0*(1.0-accuracies), 'bo')\n",
    "    plt.ylabel(\"total error percentage\")\n",
    "    plt.xlabel(\"iteration\")\n",
    "    plt.show()\n",
    "\n",
    "class Neural_Network:\n",
    "    defaultSize = 16 #default number of neurons in hidden layers if no shape list given\n",
    "    inputChecks = True #this will change whether inputs that match the MNIST format are given\n",
    "    #can be turned off to allow for debugging on smaller examples\n",
    "    \n",
    "    #activation must be an activation function that works for a single scalar \n",
    "    #and activation prime is its derivative. costFunction is a cost function for a vector representing an output layer\n",
    "    #and the target vector. costDeriv is its derivative with respect to the vector of activations.\n",
    "    #shape is list of integers where shape[i] = the number of neurons in ith layer\n",
    "    #layers is an integer describing the number of layers, lastAct is an optional change so that on the last layer\n",
    "    #you can have a different activation function\n",
    "    #shape and layers are optional. if both are given the shape list will be followed, if neither are given\n",
    "    #it will use the default value for layers and make all hidden layers have defaultSize many neurons\n",
    "    #lastAct and lastActPrime are the activation function and its derivative for the last layer. if left blank\n",
    "    #will default to the given activation and activationPrime\n",
    "    def __init__(self, activation, activationPrime, costFunction, costDeriv, shape = None, layers = 4, \n",
    "                 lastAct = None, lastActPrime = None):\n",
    "        if layers<2:\n",
    "            raise NameError(\"Too few layers. Need an input layer and an output layer.\")\n",
    "        if Neural_Network.inputChecks and (shape[0] != 28**2 or shape[len(shape)-1] != 10):\n",
    "            raise NameError(\"Improper input or output layer size. \\\n",
    "                            Must be 28^2 input neurons and 10 output neurons to work with MNIST.\")\n",
    "        if shape==None:\n",
    "            shape = [28**2] + [defaultSize for i in range(layers-2)] + [10]\n",
    "        self.activation = activation\n",
    "        self.activationPrime = activationPrime\n",
    "        self.shape = shape\n",
    "        self.costFunction = costFunction\n",
    "        self.costDeriv = costDeriv\n",
    "        self.weights = Neural_Network.constructWeights(shape) \n",
    "        #weights[i] is the weights going into layer i\n",
    "        self.bias = Neural_Network.constructBias(shape)\n",
    "        #bias[i] is the bias on layer i\n",
    "        if lastAct == None:\n",
    "            self.lastAct = activation\n",
    "            self.lastActPrime = activationPrime\n",
    "        else:\n",
    "            self.lastAct = lastAct\n",
    "            self.lastActPrime = lastActPrime\n",
    "        self.activations = []\n",
    "        self.zs = []\n",
    "        \n",
    "    #returns a list of matrices of weights. weights[i] is the set of weights going into ith layer\n",
    "    #weights[i][j][k] represents the weight going from the kth neuron in layer i-1 to jth neuron in layer i \n",
    "    def constructWeights(shape):\n",
    "        weights = [None]\n",
    "        for i in range(len(shape)-1): \n",
    "            weights.append(np.random.uniform(-0.1,0.1,shape[i]*shape[i+1]).reshape((shape[i+1],shape[i])))\n",
    "        return weights\n",
    "    \n",
    "    #returns a list of vectors of biases. bias[i] is the set of biases on the ith layer\n",
    "    #bias[i][j] is the bias in the ith layer on the jth neuron\n",
    "    def constructBias(shape):\n",
    "        bias = [None]\n",
    "        for i in range(1,len(shape)): \n",
    "            bias.append(np.random.uniform(-0.1,0.1,shape[i]))\n",
    "        return bias\n",
    "    \n",
    "    #performs forward propagation on the input x with the current weights and biases\n",
    "    #using activation function from the constructor returns the activations on the last layer \n",
    "    #updates the zs and activations attributes\n",
    "    def forwardProp(self, x):\n",
    "        if Neural_Network.inputChecks and len(x) != 28**2:\n",
    "            raise NameError(\"improper input\")\n",
    "        prevAct = x\n",
    "        act = []\n",
    "        self.activations = []\n",
    "        self.zs = []\n",
    "        self.activations.append(prevAct)\n",
    "        for i in range(1,len(self.shape)-1): #each layer except for last\n",
    "            z = np.dot(self.weights[i], prevAct) + self.bias[i]\n",
    "            act = elementWise(self.activation, z)\n",
    "            self.activations.append(act)\n",
    "            self.zs.append(z)\n",
    "            prevAct = act\n",
    "        i = len(self.shape)-1    \n",
    "        z = np.dot(self.weights[i], prevAct) + self.bias[i]\n",
    "        act = elementWise(self.lastAct, z)\n",
    "        self.activations.append(act)\n",
    "        self.zs.append(z)\n",
    "        prevAct = act\n",
    "        return act\n",
    "    \n",
    "    #returns the total cost for the neural network on all datapoints in data\n",
    "    #using cost function costFunc for each point. returns cost as a scalar\n",
    "    def totalCost(self, data, costFunc):\n",
    "        images = data[0]\n",
    "        labels = data[1]\n",
    "        if Neural_Network.inputChecks and len(images) != len(labels):\n",
    "            raise NameError(\"improper input\")\n",
    "        target = np.zeros(10)\n",
    "        cost = 0 \n",
    "        for i in range(len(images)):\n",
    "            target[labels[i]] = 1\n",
    "            out = self.forwardProp(images[i])\n",
    "            cost += costFunc(out, target)\n",
    "            target[labels[i]] = 0\n",
    "        return cost\n",
    "        \n",
    "    #returns the classification as a scalar based on the outputActivations\n",
    "    #picks the index with highest activation\n",
    "    def classification(outputActivations):\n",
    "        maximum = -1\n",
    "        index = -1\n",
    "        for i in range(len(outputActivations)):\n",
    "            if outputActivations[i] >= maximum:\n",
    "                index = i\n",
    "                maximum = outputActivations[i]\n",
    "        return index\n",
    "     \n",
    "    #randomly initializes all weights and biases    \n",
    "    def randomInitialization(self):\n",
    "        self.weights = Neural_Network.constructWeights(self.shape) \n",
    "        self.bias = Neural_Network.constructBias(self.shape)\n",
    "    \n",
    "    #using backProp this will perform gradient descent from the current initialization of the weights\n",
    "    #and biases on the given data. data in form touple of array of images and array of labels\n",
    "    #will stop after iterations many iterations. returns a touple of the best weights and biases\n",
    "    #and a list of the costs over time. will update the weights and biases in the neural network\n",
    "    #suppressPrint will not print anything between steps if set to true\n",
    "    #costInterval determines how often the cost will be re-computed, saved, printed (if suppressPrint is false)\n",
    "    #and how often the best weights and biases are saved. when set to 1 it occurs on every step\n",
    "    def gradientDescent(self, data, iterations, learningRate, suppressPrint = False, costInterval = 1):\n",
    "        return self.stochasticGradientDescent(data, len(data[0]), iterations, learningRate, suppressPrint, costInterval)\n",
    "    \n",
    "    #will apply the gradient with stepSize where the gradient is in form \n",
    "    #given by the backProp function\n",
    "    def applyGradient(self, gradient, stepSize):\n",
    "        for i in range(1, len(gradient[0])): #for each matrix in the weight update, \n",
    "            #first value is None for convenience in indexing\n",
    "            self.weights[i] -= stepSize * gradient[0][i]\n",
    "        for i in range(1, len(gradient[1])): #for each vector in the bias update\n",
    "            self.bias[i] -= stepSize * gradient[1][i]\n",
    "    \n",
    "    #computes the correct and incorrect number of classified data points on data\n",
    "    #prints the number correct, number incorrect, percent correct, and percent incorrect\n",
    "    #returns a touple of the number correct and total number of data points\n",
    "    def validation(self, data, suppressPrint = False):\n",
    "        images = data[0]\n",
    "        labels = data[1]\n",
    "        if len(images) != len(labels):\n",
    "            raise NameError(\"improper input\")\n",
    "        correct = 0 \n",
    "        wrong = 0\n",
    "        for i in range(len(images)):\n",
    "            if (Neural_Network.classification(self.forwardProp(images[i]))) == labels[i]:\n",
    "                correct += 1\n",
    "            else:\n",
    "                wrong += 1\n",
    "        if not suppressPrint:\n",
    "            print(\"correct: \", correct)\n",
    "            print(\"wrong: \", wrong)\n",
    "            print(\"accuracy:\", 100.0*correct/len(images), \"%\")\n",
    "            print(\"error:\", 100.0*wrong/len(images), \"%\")\n",
    "        return (correct, len(images))\n",
    "    \n",
    "    #chooses a random batch of size batchSize from images and labels\n",
    "    #note it does not replace when sampling\n",
    "    def randomBatch(images, labels, batchSize):\n",
    "        indices = np.random.choice(len(images), batchSize, replace = False)\n",
    "        #if you set replace to True this will break the gradientDescent function\n",
    "        imageBatch = []\n",
    "        labelBatch = []\n",
    "        for i in range(len(indices)):\n",
    "            imageBatch.append(images[indices[i]])\n",
    "            labelBatch.append(labels[indices[i]])\n",
    "        return (imageBatch, labelBatch)\n",
    "        \n",
    "    #using backProp this will perform stoachastic gradient descent from the current initialization of the weights\n",
    "    #and biases on the given data. will choose batchSize many samples from data \n",
    "    #data in form touple of array of images and array of labels\n",
    "    #will stop after iterations many iterations. returns a touple of the best weights and biases\n",
    "    #and a list of the costs over time. will update the weights and biases in the neural network\n",
    "    #suppressPrint will not print anything between steps if set to true\n",
    "    #costInterval determines how often the cost will be re-computed, saved, printed (if suppressPrint is false)\n",
    "    #and how often the best weights and biases are saved. when set to 1 it occurs on every step\n",
    "    def stochasticGradientDescent(self, data, batchSize, iterations, learningRate, suppressPrint = False, costInterval = 5):\n",
    "        start = time.time()\n",
    "        bestCost = sys.maxsize\n",
    "        bestWandB = []\n",
    "        costs = []\n",
    "        accuracies = []\n",
    "        images = data[0]\n",
    "        labels = data[1]\n",
    "        for j in range(iterations):\n",
    "            imageSet, labelSet = Neural_Network.randomBatch(images, labels, batchSize)\n",
    "            target = np.zeros(10)\n",
    "            gradients = []\n",
    "            for i in range(len(imageSet)):\n",
    "                target[labelSet[i]] = 1\n",
    "                output = self.forwardProp(imageSet[i])\n",
    "                gradients.append(self.backProp(target))\n",
    "                target[labelSet[i]] = 0\n",
    "            self.applyGradient(self.averageGradient(gradients), learningRate)\n",
    "            if j % costInterval == 0: #performs this many gradient steps before re-computing the cost for all examples\n",
    "                #this is somewhat of a hyper-parameter. Higher number = faster runtime but less training data, \n",
    "                #less info when it is running about how it is doing, and fewer opportunities to save the best configuration\n",
    "                cost = self.totalCost(data, self.costFunction)\n",
    "                costs.append(cost)\n",
    "                a = self.validation(data, suppressPrint)\n",
    "                accuracies.append(a[0]/a[1])\n",
    "                if not suppressPrint:\n",
    "                    print(cost)\n",
    "                if cost <= bestCost:#this saves the best configuration so far but only on steps when the cost is computed\n",
    "                    bestCost = cost\n",
    "                    bestWandB = (self.weights, self.bias)\n",
    "        trainingData = (costs, accuracies)\n",
    "        end = time.time()\n",
    "        print(iterations, \"iterations took\", end - start, \"seconds.\")\n",
    "        return (bestWandB, trainingData)\n",
    "    \n",
    "    #given a list of touples of the gradient in the form given by backProp\n",
    "    #will return the average gradient\n",
    "    def averageGradient(self, gradients):\n",
    "        averageGrad = (Neural_Network.constructWeights(self.shape), Neural_Network.constructBias(self.shape))\n",
    "        for i in range(len(averageGrad)): #weights then biases\n",
    "            for j in range(len(gradients)): #grad from each sample\n",
    "                for k in range(1, len(gradients[j][i])): #grad for each matrix\n",
    "                    averageGrad[i][k] += gradients[j][i][k]\n",
    "            for k in range(1,len(averageGrad[i])):#done at end to prevent rounding small numbers to zero\n",
    "                averageGrad[i][k] /= len(gradients) #if overflow is a problem then divide at each step\n",
    "        return averageGrad\n",
    "    \n",
    "    #this will return the gradient of the cost on the single target\n",
    "    #the form is a touple with the weights and then the biases\n",
    "    #in the same format as the weights and biases attributes for the Neural_Network class\n",
    "    def backProp(self, target):\n",
    "        if Neural_Network.inputChecks and len(target) != 10:\n",
    "            raise NameError(\"improper input\")\n",
    "        biasGrad = [None for _ in range(len(self.shape))]\n",
    "        weightGrad = [None for _ in range(len(self.shape))]\n",
    "        delta = self.costDeriv(self.activations[-1], target) * self.lastActPrime(self.zs[-1])\n",
    "        biasGrad[-1] = delta\n",
    "        weightGrad[-1] = np.tile(np.array([delta]).transpose(), (1,self.shape[-2]))*np.tile(np.array(self.activations[-2]),(self.shape[-1],1))\n",
    "        #this line (and the version of it below can be a little confusing, see readme)\n",
    "        for l in range(2, len(self.shape)):\n",
    "            z = self.zs[-l]\n",
    "            actDeriv = self.activationPrime(z)\n",
    "            delta = np.dot(self.weights[-l+1].transpose(), delta) * actDeriv\n",
    "            biasGrad[-l] = delta\n",
    "            weightGrad[-l] = np.tile(np.array([delta]).transpose(), (1,self.shape[-l-1]))*np.tile(np.array(self.activations[-l-1]),(self.shape[-l],1))\n",
    "        return (weightGrad, biasGrad)\n",
    "    "
   ]
  },
  {
   "cell_type": "markdown",
   "metadata": {},
   "source": [
    "The line right before the for loop in ```backProp()``` is a little confusing so I'll explain. $\\frac{\\partial C}{\\partial W^{l}_{j,k}} = a^{l-1}_{k} \\Delta^{l}_{j}$ where $C$ is the cost and $W^{l}_{j,k}$ is the weight going from the $k$th neuron in the $l-1$th layer to the $j$th neuron in the $l$th layer, $a^{l-1}_{k}$ is the activation on the $k$th neuron in the $l-1$th layer, and $\\Delta^{l}_{j}$ is the derivative of the cost with respect to the $j$th component of $z^{l}$. \n",
    "\n",
    "If you've never seen this before, it can be confusing so draw out a simple NN with very few neurons and write out the gradient of the weight matrix. You will notice that if you make a matrix with the same dimensions as $W^{l}$ where the columns are the vector $\\Delta^{l}$ and the same dimension matrix where the rows are the row vector $(a^{l-1})^{T}$ and do element-wise multiplication (not matrix multiplication) of these matrices, then the resulting matrix is the gradient of the cost with respect to the weight matrix $W^{l}$.\n",
    "\n",
    "If you're more comfortable with index notation you can also just see that in the gradient matrix of the cost with respect to the weight $W^{l}$ weights with the same row have the same $\\Delta$ value being multiplied. Similarly weights with the same column have the same $a^{l-1}$ value being multiplied.\n",
    "\n",
    "```np.tile``` allows you to create matrices from repeating column or row vectors. The [NumPy documentation](https://docs.scipy.org/doc/numpy-1.13.0/reference/generated/numpy.tile.html) explains it much better than I can. Thus in this line I use ```np.tile``` to create a matrix where the columns are the vector $\\Delta^{l}$ and a matrix where the rows are $(a^{l-1})^{T}$ and then perform element-wise multiplication. "
   ]
  },
  {
   "cell_type": "code",
   "execution_count": 45,
   "metadata": {
    "scrolled": true
   },
   "outputs": [
    {
     "name": "stdout",
     "output_type": "stream",
     "text": [
      "correct:  1060\n",
      "wrong:  8940\n",
      "accuracy: 10.6 %\n",
      "error: 89.4 %\n",
      "500 iterations took 1588.8586869239807 seconds.\n",
      "correct:  2529\n",
      "wrong:  7471\n",
      "accuracy: 25.29 %\n",
      "error: 74.71 %\n"
     ]
    },
    {
     "data": {
      "image/png": "[encoded data removed]",
      "text/plain": [
       "<matplotlib.figure.Figure at 0x105637208>"
      ]
     },
     "metadata": {},
     "output_type": "display_data"
    },
    {
     "data": {
      "image/png": "[encoded data removed]",
      "text/plain": [
       "<matplotlib.figure.Figure at 0x11d6c8898>"
      ]
     },
     "metadata": {},
     "output_type": "display_data"
    }
   ],
   "source": [
    "a = Neural_Network(relu, reluPrime, softMaxCross, softMaxCrossPrime, shape = [28**2, 100, 10])\n",
    "a.validation(valid_set)\n",
    "trainingData0 = a.stochasticGradientDescent(train_set, 1000, 500, 0.001, suppressPrint = True)\n",
    "a.validation(valid_set)\n",
    "trainingGraph(trainingData0[1])"
   ]
  },
  {
   "cell_type": "raw",
   "metadata": {},
   "source": [
    "trainingData1 = a.stochasticGradientDescent(train_set, 1000, 500, 0.008, suppressPrint = True)\n",
    "a.validation(valid_set)\n",
    "trainingGraph(trainingData1[1])"
   ]
  },
  {
   "cell_type": "code",
   "execution_count": 47,
   "metadata": {},
   "outputs": [
    {
     "name": "stdout",
     "output_type": "stream",
     "text": [
      "200 iterations took 597.6910700798035 seconds.\n",
      "correct:  7310\n",
      "wrong:  2690\n",
      "accuracy: 73.1 %\n",
      "error: 26.9 %\n"
     ]
    },
    {
     "data": {
      "image/png": "[encoded data removed]",
      "text/plain": [
       "<matplotlib.figure.Figure at 0x11d62eef0>"
      ]
     },
     "metadata": {},
     "output_type": "display_data"
    },
    {
     "data": {
      "image/png": "[encoded data removed]",
      "text/plain": [
       "<matplotlib.figure.Figure at 0x116ba14a8>"
      ]
     },
     "metadata": {},
     "output_type": "display_data"
    }
   ],
   "source": [
    "trainingData2 = a.stochasticGradientDescent(train_set, 1000, 200, 0.008, suppressPrint = True)\n",
    "a.validation(valid_set)\n",
    "trainingGraph(trainingData2[1])"
   ]
  },
  {
   "cell_type": "code",
   "execution_count": 49,
   "metadata": {},
   "outputs": [
    {
     "data": {
      "image/png": "[encoded data removed]",
      "text/plain": [
       "<matplotlib.figure.Figure at 0x133e68780>"
      ]
     },
     "metadata": {},
     "output_type": "display_data"
    },
    {
     "data": {
      "image/png": "[encoded data removed]",
      "text/plain": [
       "<matplotlib.figure.Figure at 0x12a98d4a8>"
      ]
     },
     "metadata": {},
     "output_type": "display_data"
    }
   ],
   "source": [
    "trainingData = [[],[]]\n",
    "trainingData[0] += trainingData1[1][0] + trainingData2[1][0] \n",
    "trainingData[1] += trainingData1[1][1] + trainingData2[1][1]\n",
    "trainingGraph(trainingData)"
   ]
  },
  {
   "cell_type": "code",
   "execution_count": 50,
   "metadata": {},
   "outputs": [
    {
     "data": {
      "image/png": "[encoded data removed]",
      "text/plain": [
       "<matplotlib.figure.Figure at 0x11cba9978>"
      ]
     },
     "metadata": {},
     "output_type": "display_data"
    },
    {
     "data": {
      "image/png": "[encoded data removed]",
      "text/plain": [
       "<matplotlib.figure.Figure at 0x11cab38d0>"
      ]
     },
     "metadata": {},
     "output_type": "display_data"
    }
   ],
   "source": [
    "def trainingGraph(trainingData):\n",
    "    costs = trainingData[0]\n",
    "    accuracies = np.array(trainingData[1])\n",
    "    plt.plot(costs, 'ro')\n",
    "    plt.ylabel(\"total cost\")\n",
    "    plt.xlabel(\"iteration\")\n",
    "    plt.show()\n",
    "    plt.plot(100.0*(1.0-accuracies), 'bo')\n",
    "    plt.ylabel(\"total error percentage\")\n",
    "    plt.xlabel(\"iteration\")\n",
    "    plt.show()\n",
    "    \n",
    "trainingGraph(trainingData)"
   ]
  },
  {
   "cell_type": "code",
   "execution_count": 51,
   "metadata": {},
   "outputs": [
    {
     "name": "stdout",
     "output_type": "stream",
     "text": [
      "300 iterations took 898.1946411132812 seconds.\n",
      "correct:  7617\n",
      "wrong:  2383\n",
      "accuracy: 76.17 %\n",
      "error: 23.83 %\n"
     ]
    },
    {
     "data": {
      "image/png": "[encoded data removed]",
      "text/plain": [
       "<matplotlib.figure.Figure at 0x12aa2e470>"
      ]
     },
     "metadata": {},
     "output_type": "display_data"
    },
    {
     "data": {
      "image/png": "[encoded data removed]",
      "text/plain": [
       "<matplotlib.figure.Figure at 0x106f9dcf8>"
      ]
     },
     "metadata": {},
     "output_type": "display_data"
    }
   ],
   "source": [
    "trainingData3 = a.stochasticGradientDescent(train_set, 1000, 300, 0.008, suppressPrint = True)\n",
    "a.validation(valid_set)\n",
    "trainingData[0] += trainingData3[1][0] \n",
    "trainingData[1] += trainingData3[1][1]\n",
    "trainingGraph(trainingData)"
   ]
  },
  {
   "cell_type": "code",
   "execution_count": 52,
   "metadata": {},
   "outputs": [
    {
     "name": "stdout",
     "output_type": "stream",
     "text": [
      "1000 iterations took 2997.298058986664 seconds.\n",
      "correct:  8864\n",
      "wrong:  1136\n",
      "accuracy: 88.64 %\n",
      "error: 11.36 %\n"
     ]
    }
   ],
   "source": [
    "trainingData4 = a.stochasticGradientDescent(train_set, 1000, 1000, 0.008, suppressPrint = True)\n",
    "a.validation(valid_set)\n",
    "trainingData[0] += trainingData4[1][0] \n",
    "trainingData[1] += trainingData4[1][1]"
   ]
  },
  {
   "cell_type": "code",
   "execution_count": 53,
   "metadata": {},
   "outputs": [
    {
     "data": {
      "image/png": "[encoded data removed]",
      "text/plain": [
       "<matplotlib.figure.Figure at 0x12a97d160>"
      ]
     },
     "metadata": {},
     "output_type": "display_data"
    },
    {
     "data": {
      "image/png": "[encoded data removed]",
      "text/plain": [
       "<matplotlib.figure.Figure at 0x116b8ab70>"
      ]
     },
     "metadata": {},
     "output_type": "display_data"
    }
   ],
   "source": [
    "trainingGraph(trainingData)"
   ]
  },
  {
   "cell_type": "code",
   "execution_count": 54,
   "metadata": {},
   "outputs": [
    {
     "name": "stdout",
     "output_type": "stream",
     "text": [
      "500 iterations took 1655.6477806568146 seconds.\n",
      "correct:  8949\n",
      "wrong:  1051\n",
      "accuracy: 89.49 %\n",
      "error: 10.51 %\n"
     ]
    }
   ],
   "source": [
    "trainingData5 = a.stochasticGradientDescent(train_set, 1000, 500, 0.008, suppressPrint = True)\n",
    "a.validation(valid_set)\n",
    "trainingData[0] += trainingData5[1][0] \n",
    "trainingData[1] += trainingData5[1][1]"
   ]
  },
  {
   "cell_type": "code",
   "execution_count": 68,
   "metadata": {},
   "outputs": [
    {
     "name": "stdout",
     "output_type": "stream",
     "text": [
      "500 iterations took 1624.1182272434235 seconds.\n",
      "correct:  9046\n",
      "wrong:  954\n",
      "accuracy: 90.46 %\n",
      "error: 9.54 %\n"
     ]
    }
   ],
   "source": [
    "trainingData6 = a.stochasticGradientDescent(train_set, 1000, 500, 0.008, suppressPrint = True)\n",
    "a.validation(valid_set)\n",
    "trainingData[0] += trainingData6[1][0] \n",
    "trainingData[1] += trainingData6[1][1]"
   ]
  },
  {
   "cell_type": "code",
   "execution_count": 69,
   "metadata": {},
   "outputs": [
    {
     "data": {
      "image/png": "[encoded data removed]",
      "text/plain": [
       "<matplotlib.figure.Figure at 0x11d6f3588>"
      ]
     },
     "metadata": {},
     "output_type": "display_data"
    },
    {
     "data": {
      "image/png": "[encoded data removed]",
      "text/plain": [
       "<matplotlib.figure.Figure at 0x11c6c87f0>"
      ]
     },
     "metadata": {},
     "output_type": "display_data"
    }
   ],
   "source": [
    "trainingGraph(trainingData)"
   ]
  },
  {
   "cell_type": "code",
   "execution_count": 71,
   "metadata": {},
   "outputs": [
    {
     "name": "stdout",
     "output_type": "stream",
     "text": [
      "3000 iterations took 8784.720866203308 seconds.\n",
      "correct:  9192\n",
      "wrong:  808\n",
      "accuracy: 91.92 %\n",
      "error: 8.08 %\n"
     ]
    }
   ],
   "source": [
    "trainingData7 = a.stochasticGradientDescent(train_set, 1000, 3000, 0.008, suppressPrint = True)\n",
    "a.validation(valid_set)\n",
    "trainingData[0] += trainingData7[1][0] \n",
    "trainingData[1] += trainingData7[1][1]"
   ]
  },
  {
   "cell_type": "code",
   "execution_count": 78,
   "metadata": {},
   "outputs": [
    {
     "name": "stdout",
     "output_type": "stream",
     "text": [
      "3000 iterations took 8927.946137189865 seconds.\n",
      "correct:  9284\n",
      "wrong:  716\n",
      "accuracy: 92.84 %\n",
      "error: 7.16 %\n"
     ]
    }
   ],
   "source": [
    "trainingData8 = a.stochasticGradientDescent(train_set, 1000, 3000, 0.008, suppressPrint = True)\n",
    "a.validation(valid_set)\n",
    "trainingData[0] += trainingData8[1][0] \n",
    "trainingData[1] += trainingData8[1][1]"
   ]
  },
  {
   "cell_type": "code",
   "execution_count": 73,
   "metadata": {},
   "outputs": [
    {
     "name": "stdout",
     "output_type": "stream",
     "text": [
      "correct:  1048\n",
      "wrong:  8952\n",
      "accuracy: 10.48 %\n",
      "error: 89.52 %\n"
     ]
    },
    {
     "ename": "KeyboardInterrupt",
     "evalue": "",
     "output_type": "error",
     "traceback": [
      "\u001b[0;31m---------------------------------------------------------------------------\u001b[0m",
      "\u001b[0;31mKeyboardInterrupt\u001b[0m                         Traceback (most recent call last)",
      "\u001b[0;32m<ipython-input-73-bcd197fb5dc8>\u001b[0m in \u001b[0;36m<module>\u001b[0;34m()\u001b[0m\n\u001b[1;32m      1\u001b[0m \u001b[0mb\u001b[0m \u001b[0;34m=\u001b[0m \u001b[0mNeural_Network\u001b[0m\u001b[0;34m(\u001b[0m\u001b[0mrelu\u001b[0m\u001b[0;34m,\u001b[0m \u001b[0mreluPrime\u001b[0m\u001b[0;34m,\u001b[0m \u001b[0msoftMaxCross\u001b[0m\u001b[0;34m,\u001b[0m \u001b[0msoftMaxCrossPrime\u001b[0m\u001b[0;34m,\u001b[0m \u001b[0mshape\u001b[0m \u001b[0;34m=\u001b[0m \u001b[0;34m[\u001b[0m\u001b[0;36m28\u001b[0m\u001b[0;34m**\u001b[0m\u001b[0;36m2\u001b[0m\u001b[0;34m,\u001b[0m \u001b[0;36m300\u001b[0m\u001b[0;34m,\u001b[0m \u001b[0;36m100\u001b[0m\u001b[0;34m,\u001b[0m \u001b[0;36m10\u001b[0m\u001b[0;34m]\u001b[0m\u001b[0;34m)\u001b[0m\u001b[0;34m\u001b[0m\u001b[0m\n\u001b[1;32m      2\u001b[0m \u001b[0mb\u001b[0m\u001b[0;34m.\u001b[0m\u001b[0mvalidation\u001b[0m\u001b[0;34m(\u001b[0m\u001b[0mvalid_set\u001b[0m\u001b[0;34m)\u001b[0m\u001b[0;34m\u001b[0m\u001b[0m\n\u001b[0;32m----> 3\u001b[0;31m \u001b[0mbData0\u001b[0m \u001b[0;34m=\u001b[0m \u001b[0mb\u001b[0m\u001b[0;34m.\u001b[0m\u001b[0mstochasticGradientDescent\u001b[0m\u001b[0;34m(\u001b[0m\u001b[0mtrain_set\u001b[0m\u001b[0;34m,\u001b[0m \u001b[0;36m1000\u001b[0m\u001b[0;34m,\u001b[0m \u001b[0;36m5000\u001b[0m\u001b[0;34m,\u001b[0m \u001b[0;36m0.008\u001b[0m\u001b[0;34m,\u001b[0m \u001b[0msuppressPrint\u001b[0m \u001b[0;34m=\u001b[0m \u001b[0;32mTrue\u001b[0m\u001b[0;34m)\u001b[0m\u001b[0;34m\u001b[0m\u001b[0m\n\u001b[0m\u001b[1;32m      4\u001b[0m \u001b[0;34m\u001b[0m\u001b[0m\n",
      "\u001b[0;32m<ipython-input-21-47422ed10d31>\u001b[0m in \u001b[0;36mstochasticGradientDescent\u001b[0;34m(self, data, batchSize, iterations, learningRate, suppressPrint, costInterval)\u001b[0m\n\u001b[1;32m    285\u001b[0m                 \u001b[0;31m#this is somewhat of a hyper-parameter. Higher number = faster runtime but less training data,\u001b[0m\u001b[0;34m\u001b[0m\u001b[0;34m\u001b[0m\u001b[0m\n\u001b[1;32m    286\u001b[0m                 \u001b[0;31m#less info when it is running about how it is doing, and fewer opportunities to save the best configuration\u001b[0m\u001b[0;34m\u001b[0m\u001b[0;34m\u001b[0m\u001b[0m\n\u001b[0;32m--> 287\u001b[0;31m                 \u001b[0mcost\u001b[0m \u001b[0;34m=\u001b[0m \u001b[0mself\u001b[0m\u001b[0;34m.\u001b[0m\u001b[0mtotalCost\u001b[0m\u001b[0;34m(\u001b[0m\u001b[0mdata\u001b[0m\u001b[0;34m,\u001b[0m \u001b[0mself\u001b[0m\u001b[0;34m.\u001b[0m\u001b[0mcostFunction\u001b[0m\u001b[0;34m)\u001b[0m\u001b[0;34m\u001b[0m\u001b[0m\n\u001b[0m\u001b[1;32m    288\u001b[0m                 \u001b[0mcosts\u001b[0m\u001b[0;34m.\u001b[0m\u001b[0mappend\u001b[0m\u001b[0;34m(\u001b[0m\u001b[0mcost\u001b[0m\u001b[0;34m)\u001b[0m\u001b[0;34m\u001b[0m\u001b[0m\n\u001b[1;32m    289\u001b[0m                 \u001b[0ma\u001b[0m \u001b[0;34m=\u001b[0m \u001b[0mself\u001b[0m\u001b[0;34m.\u001b[0m\u001b[0mvalidation\u001b[0m\u001b[0;34m(\u001b[0m\u001b[0mdata\u001b[0m\u001b[0;34m,\u001b[0m \u001b[0msuppressPrint\u001b[0m\u001b[0;34m)\u001b[0m\u001b[0;34m\u001b[0m\u001b[0m\n",
      "\u001b[0;32m<ipython-input-21-47422ed10d31>\u001b[0m in \u001b[0;36mtotalCost\u001b[0;34m(self, data, costFunc)\u001b[0m\n\u001b[1;32m    182\u001b[0m         \u001b[0;32mfor\u001b[0m \u001b[0mi\u001b[0m \u001b[0;32min\u001b[0m \u001b[0mrange\u001b[0m\u001b[0;34m(\u001b[0m\u001b[0mlen\u001b[0m\u001b[0;34m(\u001b[0m\u001b[0mimages\u001b[0m\u001b[0;34m)\u001b[0m\u001b[0;34m)\u001b[0m\u001b[0;34m:\u001b[0m\u001b[0;34m\u001b[0m\u001b[0m\n\u001b[1;32m    183\u001b[0m             \u001b[0mtarget\u001b[0m\u001b[0;34m[\u001b[0m\u001b[0mlabels\u001b[0m\u001b[0;34m[\u001b[0m\u001b[0mi\u001b[0m\u001b[0;34m]\u001b[0m\u001b[0;34m]\u001b[0m \u001b[0;34m=\u001b[0m \u001b[0;36m1\u001b[0m\u001b[0;34m\u001b[0m\u001b[0m\n\u001b[0;32m--> 184\u001b[0;31m             \u001b[0mout\u001b[0m \u001b[0;34m=\u001b[0m \u001b[0mself\u001b[0m\u001b[0;34m.\u001b[0m\u001b[0mforwardProp\u001b[0m\u001b[0;34m(\u001b[0m\u001b[0mimages\u001b[0m\u001b[0;34m[\u001b[0m\u001b[0mi\u001b[0m\u001b[0;34m]\u001b[0m\u001b[0;34m)\u001b[0m\u001b[0;34m\u001b[0m\u001b[0m\n\u001b[0m\u001b[1;32m    185\u001b[0m             \u001b[0mcost\u001b[0m \u001b[0;34m+=\u001b[0m \u001b[0mcostFunc\u001b[0m\u001b[0;34m(\u001b[0m\u001b[0mout\u001b[0m\u001b[0;34m,\u001b[0m \u001b[0mtarget\u001b[0m\u001b[0;34m)\u001b[0m\u001b[0;34m\u001b[0m\u001b[0m\n\u001b[1;32m    186\u001b[0m             \u001b[0mtarget\u001b[0m\u001b[0;34m[\u001b[0m\u001b[0mlabels\u001b[0m\u001b[0;34m[\u001b[0m\u001b[0mi\u001b[0m\u001b[0;34m]\u001b[0m\u001b[0;34m]\u001b[0m \u001b[0;34m=\u001b[0m \u001b[0;36m0\u001b[0m\u001b[0;34m\u001b[0m\u001b[0m\n",
      "\u001b[0;32m<ipython-input-21-47422ed10d31>\u001b[0m in \u001b[0;36mforwardProp\u001b[0;34m(self, x)\u001b[0m\n\u001b[1;32m    159\u001b[0m         \u001b[0;32mfor\u001b[0m \u001b[0mi\u001b[0m \u001b[0;32min\u001b[0m \u001b[0mrange\u001b[0m\u001b[0;34m(\u001b[0m\u001b[0;36m1\u001b[0m\u001b[0;34m,\u001b[0m\u001b[0mlen\u001b[0m\u001b[0;34m(\u001b[0m\u001b[0mself\u001b[0m\u001b[0;34m.\u001b[0m\u001b[0mshape\u001b[0m\u001b[0;34m)\u001b[0m\u001b[0;34m-\u001b[0m\u001b[0;36m1\u001b[0m\u001b[0;34m)\u001b[0m\u001b[0;34m:\u001b[0m \u001b[0;31m#each layer except for last\u001b[0m\u001b[0;34m\u001b[0m\u001b[0m\n\u001b[1;32m    160\u001b[0m             \u001b[0mz\u001b[0m \u001b[0;34m=\u001b[0m \u001b[0mnp\u001b[0m\u001b[0;34m.\u001b[0m\u001b[0mdot\u001b[0m\u001b[0;34m(\u001b[0m\u001b[0mself\u001b[0m\u001b[0;34m.\u001b[0m\u001b[0mweights\u001b[0m\u001b[0;34m[\u001b[0m\u001b[0mi\u001b[0m\u001b[0;34m]\u001b[0m\u001b[0;34m,\u001b[0m \u001b[0mprevAct\u001b[0m\u001b[0;34m)\u001b[0m \u001b[0;34m+\u001b[0m \u001b[0mself\u001b[0m\u001b[0;34m.\u001b[0m\u001b[0mbias\u001b[0m\u001b[0;34m[\u001b[0m\u001b[0mi\u001b[0m\u001b[0;34m]\u001b[0m\u001b[0;34m\u001b[0m\u001b[0m\n\u001b[0;32m--> 161\u001b[0;31m             \u001b[0mact\u001b[0m \u001b[0;34m=\u001b[0m \u001b[0melementWise\u001b[0m\u001b[0;34m(\u001b[0m\u001b[0mself\u001b[0m\u001b[0;34m.\u001b[0m\u001b[0mactivation\u001b[0m\u001b[0;34m,\u001b[0m \u001b[0mz\u001b[0m\u001b[0;34m)\u001b[0m\u001b[0;34m\u001b[0m\u001b[0m\n\u001b[0m\u001b[1;32m    162\u001b[0m             \u001b[0mself\u001b[0m\u001b[0;34m.\u001b[0m\u001b[0mactivations\u001b[0m\u001b[0;34m.\u001b[0m\u001b[0mappend\u001b[0m\u001b[0;34m(\u001b[0m\u001b[0mact\u001b[0m\u001b[0;34m)\u001b[0m\u001b[0;34m\u001b[0m\u001b[0m\n\u001b[1;32m    163\u001b[0m             \u001b[0mself\u001b[0m\u001b[0;34m.\u001b[0m\u001b[0mzs\u001b[0m\u001b[0;34m.\u001b[0m\u001b[0mappend\u001b[0m\u001b[0;34m(\u001b[0m\u001b[0mz\u001b[0m\u001b[0;34m)\u001b[0m\u001b[0;34m\u001b[0m\u001b[0m\n",
      "\u001b[0;32m<ipython-input-21-47422ed10d31>\u001b[0m in \u001b[0;36melementWise\u001b[0;34m(f, x)\u001b[0m\n\u001b[1;32m     29\u001b[0m \u001b[0;32mdef\u001b[0m \u001b[0melementWise\u001b[0m\u001b[0;34m(\u001b[0m\u001b[0mf\u001b[0m\u001b[0;34m,\u001b[0m \u001b[0mx\u001b[0m\u001b[0;34m)\u001b[0m\u001b[0;34m:\u001b[0m\u001b[0;34m\u001b[0m\u001b[0m\n\u001b[1;32m     30\u001b[0m     \u001b[0;32mfor\u001b[0m \u001b[0mi\u001b[0m \u001b[0;32min\u001b[0m \u001b[0mrange\u001b[0m\u001b[0;34m(\u001b[0m\u001b[0mlen\u001b[0m\u001b[0;34m(\u001b[0m\u001b[0mx\u001b[0m\u001b[0;34m)\u001b[0m\u001b[0;34m)\u001b[0m\u001b[0;34m:\u001b[0m\u001b[0;34m\u001b[0m\u001b[0m\n\u001b[0;32m---> 31\u001b[0;31m         \u001b[0mx\u001b[0m\u001b[0;34m[\u001b[0m\u001b[0mi\u001b[0m\u001b[0;34m]\u001b[0m \u001b[0;34m=\u001b[0m \u001b[0mf\u001b[0m\u001b[0;34m(\u001b[0m\u001b[0mx\u001b[0m\u001b[0;34m[\u001b[0m\u001b[0mi\u001b[0m\u001b[0;34m]\u001b[0m\u001b[0;34m)\u001b[0m\u001b[0;34m\u001b[0m\u001b[0m\n\u001b[0m\u001b[1;32m     32\u001b[0m     \u001b[0;32mreturn\u001b[0m \u001b[0mx\u001b[0m\u001b[0;34m\u001b[0m\u001b[0m\n\u001b[1;32m     33\u001b[0m \u001b[0;34m\u001b[0m\u001b[0m\n",
      "\u001b[0;32m<ipython-input-21-47422ed10d31>\u001b[0m in \u001b[0;36mrelu\u001b[0;34m(x)\u001b[0m\n\u001b[1;32m     15\u001b[0m \u001b[0;34m\u001b[0m\u001b[0m\n\u001b[1;32m     16\u001b[0m \u001b[0;32mdef\u001b[0m \u001b[0mrelu\u001b[0m\u001b[0;34m(\u001b[0m\u001b[0mx\u001b[0m\u001b[0;34m)\u001b[0m\u001b[0;34m:\u001b[0m\u001b[0;34m\u001b[0m\u001b[0m\n\u001b[0;32m---> 17\u001b[0;31m     \u001b[0;32mif\u001b[0m \u001b[0mx\u001b[0m\u001b[0;34m<\u001b[0m\u001b[0;36m0\u001b[0m\u001b[0;34m:\u001b[0m\u001b[0;34m\u001b[0m\u001b[0m\n\u001b[0m\u001b[1;32m     18\u001b[0m         \u001b[0;32mreturn\u001b[0m \u001b[0;36m0\u001b[0m\u001b[0;34m\u001b[0m\u001b[0m\n\u001b[1;32m     19\u001b[0m     \u001b[0;32melse\u001b[0m\u001b[0;34m:\u001b[0m\u001b[0;34m\u001b[0m\u001b[0m\n",
      "\u001b[0;31mKeyboardInterrupt\u001b[0m: "
     ]
    }
   ],
   "source": [
    "b = Neural_Network(relu, reluPrime, softMaxCross, softMaxCrossPrime, shape = [28**2, 300, 100, 10])\n",
    "b.validation(valid _set)\n",
    "bData0 = b.stochasticGradientDescent(train_set, 1000, 5000, 0.008, suppressPrint = True)\n",
    "\n"
   ]
  },
  {
   "cell_type": "code",
   "execution_count": 83,
   "metadata": {},
   "outputs": [
    {
     "name": "stdout",
     "output_type": "stream",
     "text": [
      "3000 iterations took 8947.409311056137 seconds.\n",
      "correct:  9343\n",
      "wrong:  657\n",
      "accuracy: 93.43 %\n",
      "error: 6.57 %\n"
     ]
    }
   ],
   "source": [
    "trainingData9 = a.stochasticGradientDescent(train_set, 1000, 3000, 0.008, suppressPrint = True)\n",
    "a.validation(valid_set)\n",
    "trainingData[0] += trainingData9[1][0] \n",
    "trainingData[1] += trainingData9[1][1]"
   ]
  },
  {
   "cell_type": "code",
   "execution_count": 99,
   "metadata": {},
   "outputs": [
    {
     "data": {
      "image/png": "[encoded data removed]",
      "text/plain": [
       "<matplotlib.figure.Figure at 0x11cb660b8>"
      ]
     },
     "metadata": {},
     "output_type": "display_data"
    },
    {
     "data": {
      "image/png": "[encoded data removed]",
      "text/plain": [
       "<matplotlib.figure.Figure at 0x10d804ba8>"
      ]
     },
     "metadata": {},
     "output_type": "display_data"
    }
   ],
   "source": [
    "trainingGraph(trainingData)"
   ]
  },
  {
   "cell_type": "code",
   "execution_count": 87,
   "metadata": {},
   "outputs": [
    {
     "name": "stdout",
     "output_type": "stream",
     "text": [
      "1000 iterations took 3145.555001974106 seconds.\n",
      "correct:  9365\n",
      "wrong:  635\n",
      "accuracy: 93.65 %\n",
      "error: 6.35 %\n"
     ]
    }
   ],
   "source": [
    "trainingData10 = a.stochasticGradientDescent(train_set, 1000, 1000, 0.008, suppressPrint = True)\n",
    "a.validation(valid_set)\n",
    "trainingData[0] += trainingData10[1][0] \n",
    "trainingData[1] += trainingData10[1][1]"
   ]
  },
  {
   "cell_type": "code",
   "execution_count": 90,
   "metadata": {},
   "outputs": [
    {
     "name": "stdout",
     "output_type": "stream",
     "text": [
      "correct:  46579\n",
      "wrong:  3421\n",
      "accuracy: 93.158 %\n",
      "error: 6.842 %\n"
     ]
    },
    {
     "data": {
      "text/plain": [
       "(46579, 50000)"
      ]
     },
     "execution_count": 90,
     "metadata": {},
     "output_type": "execute_result"
    }
   ],
   "source": [
    "a.validation(train_set)\n"
   ]
  },
  {
   "cell_type": "code",
   "execution_count": 91,
   "metadata": {
    "scrolled": false
   },
   "outputs": [
    {
     "name": "stdout",
     "output_type": "stream",
     "text": [
      "2000 iterations took 6146.021376132965 seconds.\n",
      "correct:  9398\n",
      "wrong:  602\n",
      "accuracy: 93.98 %\n",
      "error: 6.02 %\n"
     ]
    }
   ],
   "source": [
    "trainingData11 = a.stochasticGradientDescent(train_set, 1000, 2000, 0.008, suppressPrint = True)\n",
    "a.validation(valid_set)\n",
    "trainingData[0] += trainingData11[1][0] \n",
    "trainingData[1] += trainingData11[1][1]"
   ]
  },
  {
   "cell_type": "code",
   "execution_count": 96,
   "metadata": {},
   "outputs": [
    {
     "name": "stdout",
     "output_type": "stream",
     "text": [
      "3000 iterations took 9065.253048181534 seconds.\n",
      "correct:  9455\n",
      "wrong:  545\n",
      "accuracy: 94.55 %\n",
      "error: 5.45 %\n"
     ]
    }
   ],
   "source": [
    "trainingData12 = a.stochasticGradientDescent(train_set, 1000, 3000, 0.008, suppressPrint = True)\n",
    "a.validation(valid_set)\n",
    "trainingData[0] += trainingData12[1][0] \n",
    "trainingData[1] += trainingData12[1][1]"
   ]
  },
  {
   "cell_type": "code",
   "execution_count": 100,
   "metadata": {},
   "outputs": [
    {
     "name": "stdout",
     "output_type": "stream",
     "text": [
      "10000 iterations took 6055.067192077637 seconds.\n",
      "correct:  9544\n",
      "wrong:  456\n",
      "accuracy: 95.44 %\n",
      "error: 4.56 %\n"
     ]
    }
   ],
   "source": [
    "trainingData13 = a.stochasticGradientDescent(train_set, 500, 10000, 0.008, suppressPrint = True, costInterval = 100)\n",
    "a.validation(valid_set)\n",
    "trainingData[0] += trainingData13[1][0] \n",
    "trainingData[1] += trainingData13[1][1]"
   ]
  },
  {
   "cell_type": "code",
   "execution_count": 110,
   "metadata": {},
   "outputs": [
    {
     "data": {
      "image/png": "[encoded data removed]",
      "text/plain": [
       "<matplotlib.figure.Figure at 0x12aa490b8>"
      ]
     },
     "metadata": {},
     "output_type": "display_data"
    },
    {
     "data": {
      "image/png": "[encoded data removed]",
      "text/plain": [
       "<matplotlib.figure.Figure at 0x10d879198>"
      ]
     },
     "metadata": {},
     "output_type": "display_data"
    }
   ],
   "source": [
    "trainingGraph(trainingData13[1])"
   ]
  },
  {
   "cell_type": "code",
   "execution_count": 102,
   "metadata": {},
   "outputs": [
    {
     "name": "stdout",
     "output_type": "stream",
     "text": [
      "1000 iterations took 2635.764889240265 seconds.\n",
      "1000 iterations took 2628.222034931183 seconds.\n"
     ]
    }
   ],
   "source": [
    "bData1 = b.stochasticGradientDescent(train_set, 250, 1000, 0.008, suppressPrint = True, costInterval = 20)\n",
    "bData2 = b.stochasticGradientDescent(train_set, 250, 1000, 0.006, suppressPrint = True, costInterval = 20)"
   ]
  },
  {
   "cell_type": "code",
   "execution_count": 109,
   "metadata": {},
   "outputs": [
    {
     "name": "stdout",
     "output_type": "stream",
     "text": [
      "correct:  45339\n",
      "wrong:  4661\n",
      "accuracy: 90.678 %\n",
      "error: 9.322 %\n"
     ]
    },
    {
     "data": {
      "text/plain": [
       "(45339, 50000)"
      ]
     },
     "execution_count": 109,
     "metadata": {},
     "output_type": "execute_result"
    }
   ],
   "source": [
    "b.validation(train_set)"
   ]
  },
  {
   "cell_type": "code",
   "execution_count": 111,
   "metadata": {},
   "outputs": [
    {
     "name": "stdout",
     "output_type": "stream",
     "text": [
      "10000 iterations took 6157.3211879730225 seconds.\n",
      "correct:  9611\n",
      "wrong:  389\n",
      "accuracy: 96.11 %\n",
      "error: 3.89 %\n"
     ]
    }
   ],
   "source": [
    "trainingData13 = a.stochasticGradientDescent(train_set, 500, 10000, 0.008, suppressPrint = True, costInterval = 100)\n",
    "a.validation(valid_set)\n",
    "trainingData[0] += trainingData13[1][0] \n",
    "trainingData[1] += trainingData13[1][1]"
   ]
  },
  {
   "cell_type": "code",
   "execution_count": 112,
   "metadata": {},
   "outputs": [
    {
     "name": "stdout",
     "output_type": "stream",
     "text": [
      "2000 iterations took 5257.719088792801 seconds.\n"
     ]
    }
   ],
   "source": [
    "bData3 = b.stochasticGradientDescent(train_set, 250, 2000, 0.006, suppressPrint = True, costInterval = 20)"
   ]
  },
  {
   "cell_type": "code",
   "execution_count": 115,
   "metadata": {},
   "outputs": [
    {
     "name": "stdout",
     "output_type": "stream",
     "text": [
      "correct:  46030\n",
      "wrong:  3970\n",
      "accuracy: 92.06 %\n",
      "error: 7.94 %\n"
     ]
    },
    {
     "data": {
      "text/plain": [
       "(46030, 50000)"
      ]
     },
     "execution_count": 115,
     "metadata": {},
     "output_type": "execute_result"
    }
   ],
   "source": [
    "b.validation(train_set)"
   ]
  },
  {
   "cell_type": "code",
   "execution_count": 116,
   "metadata": {},
   "outputs": [
    {
     "data": {
      "image/png": "[encoded data removed]",
      "text/plain": [
       "<matplotlib.figure.Figure at 0x12a8dcb00>"
      ]
     },
     "metadata": {},
     "output_type": "display_data"
    },
    {
     "data": {
      "image/png": "[encoded data removed]",
      "text/plain": [
       "<matplotlib.figure.Figure at 0x10d7e7978>"
      ]
     },
     "metadata": {},
     "output_type": "display_data"
    }
   ],
   "source": [
    "trainingGraph(trainingData)"
   ]
  },
  {
   "cell_type": "code",
   "execution_count": 117,
   "metadata": {},
   "outputs": [
    {
     "name": "stdout",
     "output_type": "stream",
     "text": [
      "3000 iterations took 7846.597355127335 seconds.\n",
      "correct:  9355\n",
      "wrong:  645\n",
      "accuracy: 93.55 %\n",
      "error: 6.45 %\n"
     ]
    },
    {
     "data": {
      "text/plain": [
       "(9355, 10000)"
      ]
     },
     "execution_count": 117,
     "metadata": {},
     "output_type": "execute_result"
    }
   ],
   "source": [
    "bData4 = b.stochasticGradientDescent(train_set, 250, 3000, 0.006, suppressPrint = True, costInterval = 20)\n",
    "b.validation(valid_set)"
   ]
  },
  {
   "cell_type": "code",
   "execution_count": 118,
   "metadata": {},
   "outputs": [
    {
     "name": "stdout",
     "output_type": "stream",
     "text": [
      "4000 iterations took 2665.7319700717926 seconds.\n",
      "correct:  9621\n",
      "wrong:  379\n",
      "accuracy: 96.21 %\n",
      "error: 3.79 %\n"
     ]
    }
   ],
   "source": [
    "trainingData14 = a.stochasticGradientDescent(train_set, 500, 4000, 0.008, suppressPrint = True, costInterval = 100)\n",
    "a.validation(valid_set)\n",
    "trainingData[0] += trainingData14[1][0] \n",
    "trainingData[1] += trainingData14[1][1]"
   ]
  },
  {
   "cell_type": "code",
   "execution_count": 120,
   "metadata": {},
   "outputs": [
    {
     "name": "stdout",
     "output_type": "stream",
     "text": [
      "correct:  48250\n",
      "wrong:  1750\n",
      "accuracy: 96.5 %\n",
      "error: 3.5 %\n"
     ]
    },
    {
     "data": {
      "text/plain": [
       "(48250, 50000)"
      ]
     },
     "execution_count": 120,
     "metadata": {},
     "output_type": "execute_result"
    }
   ],
   "source": [
    "a.validation(train_set)"
   ]
  },
  {
   "cell_type": "code",
   "execution_count": 122,
   "metadata": {},
   "outputs": [
    {
     "data": {
      "image/png": "[encoded data removed]",
      "text/plain": [
       "<matplotlib.figure.Figure at 0x10d7d56d8>"
      ]
     },
     "metadata": {},
     "output_type": "display_data"
    },
    {
     "data": {
      "image/png": "[encoded data removed]",
      "text/plain": [
       "<matplotlib.figure.Figure at 0x10d7e7828>"
      ]
     },
     "metadata": {},
     "output_type": "display_data"
    }
   ],
   "source": [
    "bData = [[],[]] \n",
    "bData[0] +=  bData1[1][0] +  bData2[1][0] + bData3[1][0] + bData4[1][0] \n",
    "bData[1] +=  bData1[1][1] + bData2[1][1] + bData3[1][1] + bData4[1][1]\n",
    "trainingGraph(bData)"
   ]
  },
  {
   "cell_type": "code",
   "execution_count": 123,
   "metadata": {},
   "outputs": [
    {
     "name": "stdout",
     "output_type": "stream",
     "text": [
      "3000 iterations took 9196.337364912033 seconds.\n",
      "correct:  9447\n",
      "wrong:  553\n",
      "accuracy: 94.47 %\n",
      "error: 5.53 %\n"
     ]
    },
    {
     "data": {
      "text/plain": [
       "(9447, 10000)"
      ]
     },
     "execution_count": 123,
     "metadata": {},
     "output_type": "execute_result"
    }
   ],
   "source": [
    "bData5 = b.stochasticGradientDescent(train_set, 250, 3000, 0.006, suppressPrint = True, costInterval = 20)\n",
    "bData[0] += bData5[1][0]\n",
    "bData[1] += bData5[1][1]\n",
    "b.validation(valid_set)"
   ]
  },
  {
   "cell_type": "code",
   "execution_count": 125,
   "metadata": {},
   "outputs": [
    {
     "name": "stdout",
     "output_type": "stream",
     "text": [
      "correct:  47033\n",
      "wrong:  2967\n",
      "accuracy: 94.066 %\n",
      "error: 5.934 %\n"
     ]
    },
    {
     "data": {
      "text/plain": [
       "(47033, 50000)"
      ]
     },
     "execution_count": 125,
     "metadata": {},
     "output_type": "execute_result"
    }
   ],
   "source": [
    "b.validation(train_set)"
   ]
  },
  {
   "cell_type": "code",
   "execution_count": 129,
   "metadata": {},
   "outputs": [],
   "source": [
    "data={}\n",
    "data[\"aData\"] = trainingData\n",
    "data[\"bData\"] = bData\n",
    "data[\"a\"] = (a.weights, a.bias)\n",
    "data[\"b\"] = (b.weights, b.bias)\n",
    "with open('trainingData.pickle', 'wb') as handle:\n",
    "    pickle.dump(data, handle, protocol = pickle.HIGHEST_PROTOCOL)"
   ]
  },
  {
   "cell_type": "code",
   "execution_count": 130,
   "metadata": {
    "collapsed": true
   },
   "outputs": [],
   "source": [
    "with open('trainingData.pickle', 'rb') as handle:\n",
    "    lastData = pickle.load(handle)\n",
    "w, b = lastData[\"a\"]"
   ]
  },
  {
   "cell_type": "code",
   "execution_count": 131,
   "metadata": {},
   "outputs": [
    {
     "ename": "ValueError",
     "evalue": "The truth value of an array with more than one element is ambiguous. Use a.any() or a.all()",
     "output_type": "error",
     "traceback": [
      "\u001b[0;31m---------------------------------------------------------------------------\u001b[0m",
      "\u001b[0;31mValueError\u001b[0m                                Traceback (most recent call last)",
      "\u001b[0;32m<ipython-input-131-a7cfedc762e6>\u001b[0m in \u001b[0;36m<module>\u001b[0;34m()\u001b[0m\n\u001b[0;32m----> 1\u001b[0;31m \u001b[0mw\u001b[0m \u001b[0;34m==\u001b[0m \u001b[0ma\u001b[0m\u001b[0;34m.\u001b[0m\u001b[0mweights\u001b[0m\u001b[0;34m\u001b[0m\u001b[0m\n\u001b[0m",
      "\u001b[0;31mValueError\u001b[0m: The truth value of an array with more than one element is ambiguous. Use a.any() or a.all()"
     ]
    }
   ],
   "source": [
    "w == a.weights"
   ]
  },
  {
   "cell_type": "code",
   "execution_count": 138,
   "metadata": {},
   "outputs": [],
   "source": [
    "b = Neural_Network(relu, reluPrime, softMaxCross, softMaxCrossPrime, shape = [28**2, 300, 100, 10])\n",
    "b.weights, b.bias = lastData[\"b\"] "
   ]
  },
  {
   "cell_type": "code",
   "execution_count": 140,
   "metadata": {},
   "outputs": [
    {
     "name": "stdout",
     "output_type": "stream",
     "text": [
      "correct:  9447\n",
      "wrong:  553\n",
      "accuracy: 94.47 %\n",
      "error: 5.53 %\n"
     ]
    },
    {
     "data": {
      "text/plain": [
       "(9447, 10000)"
      ]
     },
     "execution_count": 140,
     "metadata": {},
     "output_type": "execute_result"
    }
   ],
   "source": [
    "b.validation(valid_set)"
   ]
  },
  {
   "cell_type": "code",
   "execution_count": 142,
   "metadata": {},
   "outputs": [
    {
     "name": "stdout",
     "output_type": "stream",
     "text": [
      "3000 iterations took 8581.63097500801 seconds.\n",
      "correct:  9517\n",
      "wrong:  483\n",
      "accuracy: 95.17 %\n",
      "error: 4.83 %\n"
     ]
    },
    {
     "data": {
      "text/plain": [
       "(9517, 10000)"
      ]
     },
     "execution_count": 142,
     "metadata": {},
     "output_type": "execute_result"
    }
   ],
   "source": [
    "bData6 = b.stochasticGradientDescent(train_set, 250, 3000, 0.006, suppressPrint = True, costInterval = 20)\n",
    "bData[0] += bData6[1][0]\n",
    "bData[1] += bData6[1][1]\n",
    "b.validation(valid_set)"
   ]
  },
  {
   "cell_type": "code",
   "execution_count": 143,
   "metadata": {},
   "outputs": [
    {
     "name": "stdout",
     "output_type": "stream",
     "text": [
      "7000 iterations took 18970.66819000244 seconds.\n",
      "correct:  9606\n",
      "wrong:  394\n",
      "accuracy: 96.06 %\n",
      "error: 3.94 %\n"
     ]
    },
    {
     "data": {
      "text/plain": [
       "(9606, 10000)"
      ]
     },
     "execution_count": 143,
     "metadata": {},
     "output_type": "execute_result"
    }
   ],
   "source": [
    "bData7 = b.stochasticGradientDescent(train_set, 250, 7000, 0.006, suppressPrint = True, costInterval = 20)\n",
    "bData[0] += bData7[1][0]\n",
    "bData[1] += bData7[1][1]\n",
    "b.validation(valid_set)"
   ]
  },
  {
   "cell_type": "code",
   "execution_count": 171,
   "metadata": {},
   "outputs": [
    {
     "data": {
      "image/png": "[encoded data removed]",
      "text/plain": [
       "<matplotlib.figure.Figure at 0x13d3fbdd8>"
      ]
     },
     "metadata": {},
     "output_type": "display_data"
    },
    {
     "data": {
      "image/png": "[encoded data removed]",
      "text/plain": [
       "<matplotlib.figure.Figure at 0x133e71128>"
      ]
     },
     "metadata": {},
     "output_type": "display_data"
    }
   ],
   "source": [
    "trainingGraph(bData)"
   ]
  },
  {
   "cell_type": "code",
   "execution_count": 145,
   "metadata": {},
   "outputs": [
    {
     "name": "stdout",
     "output_type": "stream",
     "text": [
      "4000 iterations took 11594.955529928207 seconds.\n",
      "correct:  9639\n",
      "wrong:  361\n",
      "accuracy: 96.39 %\n",
      "error: 3.61 %\n"
     ]
    },
    {
     "data": {
      "text/plain": [
       "(9639, 10000)"
      ]
     },
     "execution_count": 145,
     "metadata": {},
     "output_type": "execute_result"
    }
   ],
   "source": [
    "bData8 = b.stochasticGradientDescent(train_set, 250, 4000, 0.006, suppressPrint = True, costInterval = 20)\n",
    "bData[0] += bData8[1][0]\n",
    "bData[1] += bData8[1][1]\n",
    "b.validation(valid_set)"
   ]
  },
  {
   "cell_type": "code",
   "execution_count": 150,
   "metadata": {},
   "outputs": [
    {
     "name": "stdout",
     "output_type": "stream",
     "text": [
      "7000 iterations took 20944.69876599312 seconds.\n",
      "correct:  9676\n",
      "wrong:  324\n",
      "accuracy: 96.76 %\n",
      "error: 3.24 %\n"
     ]
    },
    {
     "data": {
      "text/plain": [
       "(9676, 10000)"
      ]
     },
     "execution_count": 150,
     "metadata": {},
     "output_type": "execute_result"
    }
   ],
   "source": [
    "bData9 = b.stochasticGradientDescent(train_set, 250, 7000, 0.006, suppressPrint = True, costInterval = 20)\n",
    "bData[0] += bData9[1][0]\n",
    "bData[1] += bData9[1][1]\n",
    "b.validation(valid_set)"
   ]
  },
  {
   "cell_type": "code",
   "execution_count": 151,
   "metadata": {},
   "outputs": [
    {
     "name": "stdout",
     "output_type": "stream",
     "text": [
      "correct:  9656\n",
      "wrong:  344\n",
      "accuracy: 96.56 %\n",
      "error: 3.44 %\n"
     ]
    },
    {
     "data": {
      "text/plain": [
       "(9656, 10000)"
      ]
     },
     "execution_count": 151,
     "metadata": {},
     "output_type": "execute_result"
    }
   ],
   "source": [
    "b.validation(test_set)"
   ]
  },
  {
   "cell_type": "code",
   "execution_count": 153,
   "metadata": {},
   "outputs": [
    {
     "name": "stdout",
     "output_type": "stream",
     "text": [
      "correct:  48610\n",
      "wrong:  1390\n",
      "accuracy: 97.22 %\n",
      "error: 2.78 %\n"
     ]
    },
    {
     "data": {
      "text/plain": [
       "(48610, 50000)"
      ]
     },
     "execution_count": 153,
     "metadata": {},
     "output_type": "execute_result"
    }
   ],
   "source": [
    "b.validation(train_set)"
   ]
  },
  {
   "cell_type": "code",
   "execution_count": 155,
   "metadata": {
    "collapsed": true
   },
   "outputs": [],
   "source": [
    "data={}\n",
    "data[\"aData\"] = trainingData\n",
    "data[\"bData\"] = bData\n",
    "data[\"a\"] = (a.weights, a.bias)\n",
    "data[\"b\"] = (b.weights, b.bias)\n",
    "with open('trainingData.pickle', 'wb') as handle:\n",
    "    pickle.dump(data, handle, protocol = pickle.HIGHEST_PROTOCOL)"
   ]
  },
  {
   "cell_type": "code",
   "execution_count": 156,
   "metadata": {},
   "outputs": [
    {
     "name": "stdout",
     "output_type": "stream",
     "text": [
      "1000 iterations took 3000.0413179397583 seconds.\n",
      "correct:  9675\n",
      "wrong:  325\n",
      "accuracy: 96.75 %\n",
      "error: 3.25 %\n"
     ]
    },
    {
     "data": {
      "text/plain": [
       "(9675, 10000)"
      ]
     },
     "execution_count": 156,
     "metadata": {},
     "output_type": "execute_result"
    }
   ],
   "source": [
    "bData10 = b.stochasticGradientDescent(train_set, 250, 1000, 0.008, suppressPrint = True, costInterval = 20)\n",
    "bData[0] += bData10[1][0]\n",
    "bData[1] += bData10[1][1]\n",
    "b.validation(valid_set)"
   ]
  },
  {
   "cell_type": "code",
   "execution_count": 167,
   "metadata": {},
   "outputs": [
    {
     "name": "stdout",
     "output_type": "stream",
     "text": [
      "correct:  48663\n",
      "wrong:  1337\n",
      "accuracy: 97.326 %\n",
      "error: 2.674 %\n"
     ]
    },
    {
     "data": {
      "text/plain": [
       "(48663, 50000)"
      ]
     },
     "execution_count": 167,
     "metadata": {},
     "output_type": "execute_result"
    }
   ],
   "source": [
    "b.validation(train_set)"
   ]
  },
  {
   "cell_type": "code",
   "execution_count": 168,
   "metadata": {
    "collapsed": true
   },
   "outputs": [],
   "source": [
    "data={}\n",
    "data[\"aData\"] = trainingData\n",
    "data[\"bData\"] = bData\n",
    "data[\"a\"] = (a.weights, a.bias)\n",
    "data[\"b\"] = (b.weights, b.bias)\n",
    "with open('trainingData.pickle', 'wb') as handle:\n",
    "    pickle.dump(data, handle, protocol = pickle.HIGHEST_PROTOCOL)"
   ]
  },
  {
   "cell_type": "code",
   "execution_count": 169,
   "metadata": {},
   "outputs": [
    {
     "name": "stdout",
     "output_type": "stream",
     "text": [
      "1000 iterations took 3263.502804994583 seconds.\n",
      "correct:  9678\n",
      "wrong:  322\n",
      "accuracy: 96.78 %\n",
      "error: 3.22 %\n",
      "correct:  9671\n",
      "wrong:  329\n",
      "accuracy: 96.71 %\n",
      "error: 3.29 %\n"
     ]
    },
    {
     "data": {
      "text/plain": [
       "(9671, 10000)"
      ]
     },
     "execution_count": 169,
     "metadata": {},
     "output_type": "execute_result"
    }
   ],
   "source": [
    "bData10 = b.stochasticGradientDescent(train_set, 300, 1000, 0.0095, suppressPrint = True, costInterval = 20)\n",
    "bData[0] += bData10[1][0]\n",
    "bData[1] += bData10[1][1]\n",
    "b.validation(valid_set)\n",
    "b.validation(test_set)"
   ]
  },
  {
   "cell_type": "code",
   "execution_count": 172,
   "metadata": {},
   "outputs": [
    {
     "name": "stdout",
     "output_type": "stream",
     "text": [
      "1000 iterations took 1284.205706834793 seconds.\n",
      "correct:  9685\n",
      "wrong:  315\n",
      "accuracy: 96.85 %\n",
      "error: 3.15 %\n",
      "correct:  9672\n",
      "wrong:  328\n",
      "accuracy: 96.72 %\n",
      "error: 3.28 %\n"
     ]
    },
    {
     "data": {
      "text/plain": [
       "(9672, 10000)"
      ]
     },
     "execution_count": 172,
     "metadata": {},
     "output_type": "execute_result"
    }
   ],
   "source": [
    "bData10 = b.stochasticGradientDescent(train_set, 300, 1000, 0.0105, suppressPrint = True, costInterval = 1000)\n",
    "bData[0] += bData10[1][0]\n",
    "bData[1] += bData10[1][1]\n",
    "b.validation(valid_set)\n",
    "b.validation(test_set)"
   ]
  },
  {
   "cell_type": "code",
   "execution_count": 173,
   "metadata": {},
   "outputs": [
    {
     "name": "stdout",
     "output_type": "stream",
     "text": [
      "correct:  48786\n",
      "wrong:  1214\n",
      "accuracy: 97.572 %\n",
      "error: 2.428 %\n"
     ]
    },
    {
     "data": {
      "text/plain": [
       "(48786, 50000)"
      ]
     },
     "execution_count": 173,
     "metadata": {},
     "output_type": "execute_result"
    }
   ],
   "source": [
    "b.validation(train_set)"
   ]
  },
  {
   "cell_type": "code",
   "execution_count": 174,
   "metadata": {},
   "outputs": [
    {
     "name": "stdout",
     "output_type": "stream",
     "text": [
      "2000 iterations took 2643.803431034088 seconds.\n",
      "correct:  9693\n",
      "wrong:  307\n",
      "accuracy: 96.93 %\n",
      "error: 3.07 %\n",
      "correct:  9695\n",
      "wrong:  305\n",
      "accuracy: 96.95 %\n",
      "error: 3.05 %\n"
     ]
    },
    {
     "data": {
      "text/plain": [
       "(9695, 10000)"
      ]
     },
     "execution_count": 174,
     "metadata": {},
     "output_type": "execute_result"
    }
   ],
   "source": [
    "bData11 = b.stochasticGradientDescent(train_set, 300, 2000, 0.0105, suppressPrint = True, costInterval = 1000)\n",
    "bData[0] += bData11[1][0]\n",
    "bData[1] += bData11[1][1]\n",
    "b.validation(valid_set)\n",
    "b.validation(test_set)"
   ]
  },
  {
   "cell_type": "code",
   "execution_count": 177,
   "metadata": {},
   "outputs": [
    {
     "name": "stdout",
     "output_type": "stream",
     "text": [
      "2000 iterations took 2522.0097200870514 seconds.\n",
      "correct:  9700\n",
      "wrong:  300\n",
      "accuracy: 97.0 %\n",
      "error: 3.0 %\n",
      "correct:  9695\n",
      "wrong:  305\n",
      "accuracy: 96.95 %\n",
      "error: 3.05 %\n"
     ]
    },
    {
     "data": {
      "text/plain": [
       "(9695, 10000)"
      ]
     },
     "execution_count": 177,
     "metadata": {},
     "output_type": "execute_result"
    }
   ],
   "source": [
    "bData12 = b.stochasticGradientDescent(train_set, 300, 2000, 0.0105, suppressPrint = True, costInterval = 1000)\n",
    "bData[0] += bData12[1][0]\n",
    "bData[1] += bData12[1][1]\n",
    "b.validation(valid_set)\n",
    "b.validation(test_set)"
   ]
  },
  {
   "cell_type": "code",
   "execution_count": 178,
   "metadata": {},
   "outputs": [
    {
     "name": "stdout",
     "output_type": "stream",
     "text": [
      "correct:  49009\n",
      "wrong:  991\n",
      "accuracy: 98.018 %\n",
      "error: 1.982 %\n"
     ]
    },
    {
     "data": {
      "text/plain": [
       "(49009, 50000)"
      ]
     },
     "execution_count": 178,
     "metadata": {},
     "output_type": "execute_result"
    }
   ],
   "source": [
    "b.validation(train_set)"
   ]
  },
  {
   "cell_type": "code",
   "execution_count": 179,
   "metadata": {},
   "outputs": [
    {
     "name": "stdout",
     "output_type": "stream",
     "text": [
      "200 iterations took 275.1218087673187 seconds.\n",
      "correct:  9703\n",
      "wrong:  297\n",
      "accuracy: 97.03 %\n",
      "error: 2.97 %\n",
      "correct:  9694\n",
      "wrong:  306\n",
      "accuracy: 96.94 %\n",
      "error: 3.06 %\n"
     ]
    },
    {
     "data": {
      "text/plain": [
       "(9694, 10000)"
      ]
     },
     "execution_count": 179,
     "metadata": {},
     "output_type": "execute_result"
    }
   ],
   "source": [
    "bData13 = b.stochasticGradientDescent(train_set, 300, 200, 0.0105, suppressPrint = True, costInterval = 1000)\n",
    "bData[0] += bData13[1][0]\n",
    "bData[1] += bData13[1][1]\n",
    "b.validation(valid_set)\n",
    "b.validation(test_set)"
   ]
  },
  {
   "cell_type": "code",
   "execution_count": 180,
   "metadata": {
    "collapsed": true
   },
   "outputs": [],
   "source": [
    "training_data={}\n",
    "training_data[\"aData\"] = trainingData\n",
    "training_data[\"bData\"] = bData\n",
    "training_data[\"a\"] = (a.weights, a.bias)\n",
    "training_data[\"b\"] = (b.weights, b.bias)\n",
    "with open('training_data.pickle', 'wb') as handle:\n",
    "    pickle.dump(training_data, handle, protocol = pickle.HIGHEST_PROTOCOL)"
   ]
  },
  {
   "cell_type": "code",
   "execution_count": 184,
   "metadata": {},
   "outputs": [
    {
     "name": "stdout",
     "output_type": "stream",
     "text": [
      "correct:  9703\n",
      "wrong:  297\n",
      "accuracy: 97.03 %\n",
      "error: 2.97 %\n"
     ]
    },
    {
     "data": {
      "text/plain": [
       "(9703, 10000)"
      ]
     },
     "execution_count": 184,
     "metadata": {},
     "output_type": "execute_result"
    }
   ],
   "source": [
    "c = Neural_Network(relu, reluPrime, softMaxCross, softMaxCrossPrime, shape = [28**2, 300, 100, 10])\n",
    "with open('training_data.pickle', 'rb') as handle:\n",
    "    lastData = pickle.load(handle)\n",
    "c.weights, c.bias  = lastData[\"b\"]\n",
    "c.validation(valid_set)\n"
   ]
  },
  {
   "cell_type": "code",
   "execution_count": 185,
   "metadata": {},
   "outputs": [
    {
     "data": {
      "image/png": "[encoded data removed]",
      "text/plain": [
       "<matplotlib.figure.Figure at 0x10d772ba8>"
      ]
     },
     "metadata": {},
     "output_type": "display_data"
    },
    {
     "data": {
      "image/png": "[encoded data removed]",
      "text/plain": [
       "<matplotlib.figure.Figure at 0x12a97ddd8>"
      ]
     },
     "metadata": {},
     "output_type": "display_data"
    }
   ],
   "source": [
    "trainingGraph(trainingData)"
   ]
  },
  {
   "cell_type": "code",
   "execution_count": null,
   "metadata": {
    "collapsed": true
   },
   "outputs": [],
   "source": []
  }
 ],
 "metadata": {
  "anaconda-cloud": {},
  "kernelspec": {
   "display_name": "Python 3",
   "language": "python",
   "name": "python3"
  },
  "language_info": {
   "codemirror_mode": {
    "name": "ipython",
    "version": 3
   },
   "file_extension": ".py",
   "mimetype": "text/x-python",
   "name": "python",
   "nbconvert_exporter": "python",
   "pygments_lexer": "ipython3",
   "version": "3.6.1"
  }
 },
 "nbformat": 4,
 "nbformat_minor": 2
}
